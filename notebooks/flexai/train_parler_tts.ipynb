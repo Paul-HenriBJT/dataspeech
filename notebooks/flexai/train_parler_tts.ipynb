{
 "cells": [
  {
   "cell_type": "code",
   "execution_count": 5,
   "metadata": {},
   "outputs": [
    {
     "name": "stdout",
     "output_type": "stream",
     "text": [
      "Training french_parler_tts_mini_V01_0008 started\n"
     ]
    }
   ],
   "source": [
    "!flexai training run french_parler_tts_mini_V01_0008 \\\n",
    "    -s parler-tts \\\n",
    "    -rflexai \\\n",
    "    -D nano-gpt-tutorial-dataset \\\n",
    "    -- ./training/run_parler_tts_training.py \\\n",
    "        --model_name_or_path \"parler-tts/parler_tts_mini_v0.1\" \\\n",
    "        --feature_extractor_name \"parler-tts/dac_44khZ_8kbps\" \\\n",
    "        --description_tokenizer_name \"parler-tts/parler_tts_mini_v0.1\" \\\n",
    "        --prompt_tokenizer_name \"parler-tts/parler_tts_mini_v0.1\" \\\n",
    "        --report_to \"wandb\" \\\n",
    "        --overwrite_output_dir true \\\n",
    "        --train_dataset_name \"PHBJT/mls_french_sorted\" \\\n",
    "        --train_metadata_dataset_name \"PHBJT/mls_french_tagged_generated_sorted\" \\\n",
    "        --train_dataset_config_name \"default\" \\\n",
    "        --train_split_name \"train\" \\\n",
    "        --eval_dataset_name \"PHBJT/mls_french_sorted\" \\\n",
    "        --eval_metadata_dataset_name \"PHBJT/mls_french_tagged_generated_sorted\" \\\n",
    "        --eval_dataset_config_name \"default\" \\\n",
    "        --eval_split_name \"test\" \\\n",
    "        --max_eval_samples 8 \\\n",
    "        --per_device_eval_batch_size 8 \\\n",
    "        --target_audio_column_name \"audio\" \\\n",
    "        --description_column_name \"text_description\" \\\n",
    "        --prompt_column_name \"text\" \\\n",
    "        --max_duration_in_seconds 20 \\\n",
    "        --min_duration_in_seconds 2.0 \\\n",
    "        --max_text_length 400 \\\n",
    "        --preprocessing_num_workers 10 \\\n",
    "        --do_train true \\\n",
    "        --num_train_epochs 2 \\\n",
    "        --gradient_accumulation_steps 18 \\\n",
    "        --gradient_checkpointing true \\\n",
    "        --per_device_train_batch_size 10 \\\n",
    "        --learning_rate 0.00008 \\\n",
    "        --adam_beta1 0.9 \\\n",
    "        --adam_beta2 0.99 \\\n",
    "        --weight_decay 0.01 \\\n",
    "        --lr_scheduler_type \"constant_with_warmup\" \\\n",
    "        --warmup_steps 50 \\\n",
    "        --logging_steps 2 \\\n",
    "        --freeze_text_encoder true \\\n",
    "        --audio_encoder_per_device_batch_size 10 \\\n",
    "        --dtype \"float16\" \\\n",
    "        --seed 456 \\\n",
    "        --output_dir \"./output/output_dir_training/\" \\\n",
    "        --temporary_save_to_disk \"./output/audio_code_tmp/\" \\\n",
    "        --save_to_disk \"./output/tmp_dataset_audio/\" \\\n",
    "        --dataloader_num_workers 10 \\\n",
    "        --do_eval \\\n",
    "        --predict_with_generate \\\n",
    "        --include_inputs_for_metrics \\\n",
    "        --group_by_length true \\\n",
    "        --wandb_api_key \"c7f8305aef0a0eb4857def659a094467e7290144\"\n",
    "        --preprocessing_only \\\n",
    "        --preprocessed_dataset_hub_path \"PHBJT/mls_french_tokenized\""
   ]
  },
  {
   "cell_type": "code",
   "execution_count": 25,
   "metadata": {},
   "outputs": [
    {
     "name": "stdout",
     "output_type": "stream",
     "text": [
      "Training parler-tts-mini-v0.1-5-percent-0002 started\n"
     ]
    }
   ],
   "source": [
    "!flexai training run parler-tts-mini-v0.1-5-percent-0002 \\\n",
    "    --source-name parler-tts \\\n",
    "    --source-revision runpod \\\n",
    "    --dataset nano-gpt-tutorial-dataset \\\n",
    "        -- -m accelerate.commands.launch ./training/run_parler_tts_training.py ./training/config/v0.1/mini/train.json"
   ]
  },
  {
   "cell_type": "code",
   "execution_count": null,
   "metadata": {},
   "outputs": [],
   "source": [
    "nohup accelerate launch ./training/run_parler_tts_training.py ./training/config/v0.1/mini/continue_training.json > training_script_output.log 2>&1 &\n",
    "\n",
    "\n",
    "nohup accelerate launch ./training/run_parler_tts_training.py ./training/config/v0.1/mini/continue_training_gcs.json > training_script_output.log 2>&1 &"
   ]
  },
  {
   "cell_type": "code",
   "execution_count": 21,
   "metadata": {},
   "outputs": [
    {
     "name": "stdout",
     "output_type": "stream",
     "text": [
      "Training tokenize-jenny-0004 started\n"
     ]
    }
   ],
   "source": [
    "!flexai training run tokenize-jenny-0004 \\\n",
    "    --source-name train-parler-tts \\\n",
    "    --source-revision master \\\n",
    "    --dataset nano-gpt-tutorial-dataset \\\n",
    "        --  -m accelerate.commands.launch ./training/run_parler_tts_training.py ./training/config/preprocess.json"
   ]
  }
 ],
 "metadata": {
  "kernelspec": {
   "display_name": "env_dataspeech",
   "language": "python",
   "name": "python3"
  },
  "language_info": {
   "codemirror_mode": {
    "name": "ipython",
    "version": 3
   },
   "file_extension": ".py",
   "mimetype": "text/x-python",
   "name": "python",
   "nbconvert_exporter": "python",
   "pygments_lexer": "ipython3",
   "version": "3.12.5"
  }
 },
 "nbformat": 4,
 "nbformat_minor": 2
}
