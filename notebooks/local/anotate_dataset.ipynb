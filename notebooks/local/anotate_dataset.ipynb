{
 "cells": [
  {
   "cell_type": "code",
   "execution_count": 1,
   "metadata": {},
   "outputs": [
    {
     "name": "stdout",
     "output_type": "stream",
     "text": [
      "zsh:1: no matches found: datasets[audio]\n",
      "Note: you may need to restart the kernel to use updated packages.\n"
     ]
    }
   ],
   "source": [
    "%pip install datasets[audio]"
   ]
  },
  {
   "cell_type": "code",
   "execution_count": 2,
   "metadata": {},
   "outputs": [
    {
     "data": {
      "application/vnd.jupyter.widget-view+json": {
       "model_id": "2715fb698dd645bcbb9239f0c056f4e9",
       "version_major": 2,
       "version_minor": 0
      },
      "text/plain": [
       "Generating train split: 0 examples [00:00, ? examples/s]"
      ]
     },
     "metadata": {},
     "output_type": "display_data"
    }
   ],
   "source": [
    "from datasets import load_dataset\n",
    "\n",
    "dataset = load_dataset(\"/Users/paul-henri/Documents/QS/dataspeech/datasets/mls_french_opus_mini\")"
   ]
  },
  {
   "cell_type": "code",
   "execution_count": 1,
   "metadata": {},
   "outputs": [
    {
     "name": "stdout",
     "output_type": "stream",
     "text": [
      "\u001b[32mWARNING\u001b[0m - \u001b[33mtorchvision is not available - cannot save figures\u001b[0m\n",
      "Traceback (most recent call last):\n",
      "  File \"/Users/paul-henri/Documents/QS/dataspeech/main.py\", line 33, in <module>\n",
      "    dataset = load_dataset(args.dataset_name, args.configuration, num_proc=args.cpu_num_workers,)\n",
      "              ^^^^^^^^^^^^^^^^^^^^^^^^^^^^^^^^^^^^^^^^^^^^^^^^^^^^^^^^^^^^^^^^^^^^^^^^^^^^^^^^^^^\n",
      "  File \"/Users/paul-henri/Documents/QS/dataspeech/env_dataspeech/lib/python3.12/site-packages/datasets/load.py\", line 2606, in load_dataset\n",
      "    builder_instance = load_dataset_builder(\n",
      "                       ^^^^^^^^^^^^^^^^^^^^^\n",
      "  File \"/Users/paul-henri/Documents/QS/dataspeech/env_dataspeech/lib/python3.12/site-packages/datasets/load.py\", line 2277, in load_dataset_builder\n",
      "    dataset_module = dataset_module_factory(\n",
      "                     ^^^^^^^^^^^^^^^^^^^^^^^\n",
      "  File \"/Users/paul-henri/Documents/QS/dataspeech/env_dataspeech/lib/python3.12/site-packages/datasets/load.py\", line 1925, in dataset_module_factory\n",
      "    raise FileNotFoundError(\n",
      "FileNotFoundError: Couldn't find a dataset script at /Users/paul-henri/Documents/QS/dataspeech/datasets/mls_french_opus_01/mls_french_opus_01.py or any data file in the same directory.\n"
     ]
    }
   ],
   "source": [
    "!python /Users/paul-henri/Documents/QS/dataspeech/main.py \"/Users/paul-henri/Documents/QS/dataspeech/datasets/mls_french_opus_01\" \\\n",
    "    --configuration \"default\" \\\n",
    "    --text_column_name \"transcript\" \\\n",
    "    --audio_column_name \"audio\" \\\n",
    "    --batch_size 16 \\\n",
    "    --penn_batch_size 2048 \\\n",
    "    --rename_column \\\n",
    "    --output_dir \"/Users/paul-henri/Documents/QS/dataspeech/datasets/mls_french_opus_tagged\""
   ]
  }
 ],
 "metadata": {
  "kernelspec": {
   "display_name": "env_dataspeech",
   "language": "python",
   "name": "python3"
  },
  "language_info": {
   "codemirror_mode": {
    "name": "ipython",
    "version": 3
   },
   "file_extension": ".py",
   "mimetype": "text/x-python",
   "name": "python",
   "nbconvert_exporter": "python",
   "pygments_lexer": "ipython3",
   "version": "3.12.5"
  }
 },
 "nbformat": 4,
 "nbformat_minor": 2
}
