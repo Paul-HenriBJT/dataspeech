{
 "cells": [
  {
   "cell_type": "code",
   "execution_count": 5,
   "metadata": {},
   "outputs": [
    {
     "name": "stdout",
     "output_type": "stream",
     "text": [
      "None of PyTorch, TensorFlow >= 2.0, or Flax have been found. Models won't be available and only tokenizers, configuration and file/data utilities can be used.\n",
      "Traceback (most recent call last):\n",
      "  File \"/Users/paul-henri/Documents/QS/dataspeech/scripts/run_prompt_creation_openai.py\", line 119, in <module>\n",
      "    asyncio.run(main())\n",
      "  File \"/opt/homebrew/Cellar/python@3.12/3.12.5/Frameworks/Python.framework/Versions/3.12/lib/python3.12/asyncio/runners.py\", line 194, in run\n",
      "    return runner.run(main)\n",
      "           ^^^^^^^^^^^^^^^^\n",
      "  File \"/opt/homebrew/Cellar/python@3.12/3.12.5/Frameworks/Python.framework/Versions/3.12/lib/python3.12/asyncio/runners.py\", line 118, in run\n",
      "    return self._loop.run_until_complete(task)\n",
      "           ^^^^^^^^^^^^^^^^^^^^^^^^^^^^^^^^^^^\n",
      "  File \"/opt/homebrew/Cellar/python@3.12/3.12.5/Frameworks/Python.framework/Versions/3.12/lib/python3.12/asyncio/base_events.py\", line 687, in run_until_complete\n",
      "    return future.result()\n",
      "           ^^^^^^^^^^^^^^^\n",
      "  File \"/Users/paul-henri/Documents/QS/dataspeech/scripts/run_prompt_creation_openai.py\", line 96, in main\n",
      "    dataset = load_dataset(data_args.dataset_name)\n",
      "              ^^^^^^^^^^^^^^^^^^^^^^^^^^^^^^^^^^^^\n",
      "  File \"/Users/paul-henri/Documents/QS/datasets/venv/lib/python3.12/site-packages/datasets/load.py\", line 2606, in load_dataset\n",
      "    builder_instance = load_dataset_builder(\n",
      "                       ^^^^^^^^^^^^^^^^^^^^^\n",
      "  File \"/Users/paul-henri/Documents/QS/datasets/venv/lib/python3.12/site-packages/datasets/load.py\", line 2277, in load_dataset_builder\n",
      "    dataset_module = dataset_module_factory(\n",
      "                     ^^^^^^^^^^^^^^^^^^^^^^^\n",
      "  File \"/Users/paul-henri/Documents/QS/datasets/venv/lib/python3.12/site-packages/datasets/load.py\", line 1917, in dataset_module_factory\n",
      "    raise e1 from None\n",
      "  File \"/Users/paul-henri/Documents/QS/datasets/venv/lib/python3.12/site-packages/datasets/load.py\", line 1867, in dataset_module_factory\n",
      "    raise DatasetNotFoundError(f\"Dataset '{path}' doesn't exist on the Hub or cannot be accessed.\") from e\n",
      "datasets.exceptions.DatasetNotFoundError: Dataset 'PHBJT/cml-tts-5percent-subset-annotated' doesn't exist on the Hub or cannot be accessed.\n"
     ]
    }
   ],
   "source": [
    "!python /Users/paul-henri/Documents/QS/dataspeech/scripts/run_prompt_creation_openai.py \\\n",
    "    --dataset_name \"PHBJT/cml-tts-1percent-subset-annotated\"  \\\n",
    "    --openai_api_key \"sk-jnXYQb0gi5WWaEuz5ODd7wRREJ-oRjRyL6tvOp70ZRT3BlbkFJ8XeR0YbPhG0f5Svb8f72vffbnlZZ3od73yX2lJJg4A\" \\\n",
    "    --repo_id \"PHBJT/cml-tts-1percent-subset-description\" \\\n",
    "    --batch_size 100 \\\n",
    "    --language \"french\""
   ]
  }
 ],
 "metadata": {
  "kernelspec": {
   "display_name": "env_dataspeech",
   "language": "python",
   "name": "python3"
  },
  "language_info": {
   "codemirror_mode": {
    "name": "ipython",
    "version": 3
   },
   "file_extension": ".py",
   "mimetype": "text/x-python",
   "name": "python",
   "nbconvert_exporter": "python",
   "pygments_lexer": "ipython3",
   "version": "3.12.5"
  }
 },
 "nbformat": 4,
 "nbformat_minor": 2
}
