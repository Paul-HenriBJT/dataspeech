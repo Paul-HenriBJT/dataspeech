{
 "cells": [
  {
   "cell_type": "code",
   "execution_count": 6,
   "metadata": {},
   "outputs": [
    {
     "name": "stdout",
     "output_type": "stream",
     "text": [
      "Generating data split: 22785 examples [00:00, 1058693.64 examples/s]\n",
      "Processing batches: 100%|█████████████████████| 228/228 [07:46<00:00,  2.05s/it]\n",
      "Saving the dataset (1/1 shards): 100%|█| 22785/22785 [00:00<00:00, 916123.13 exa\n",
      "Results saved to /Users/paul-henri/Documents/QS/dataspeech/datasets/mls_french_opus_generated/train\n"
     ]
    }
   ],
   "source": [
    "!python /Users/paul-henri/Documents/QS/dataspeech/scripts/run_prompt_creation_openai.py \\\n",
    "    --dataset_name \"/Users/paul-henri/Documents/QS/dataspeech/datasets/temp\"  \\\n",
    "    --openai_api_key \"sk-jnXYQb0gi5WWaEuz5ODd7wRREJ-oRjRyL6tvOp70ZRT3BlbkFJ8XeR0YbPhG0f5Svb8f72vffbnlZZ3od73yX2lJJg4A\" \\\n",
    "    --output_dir \"/Users/paul-henri/Documents/QS/dataspeech/datasets/mls_french_opus_generated/train\" \\\n",
    "    --batch_size 100"
   ]
  }
 ],
 "metadata": {
  "kernelspec": {
   "display_name": "env_dataspeech",
   "language": "python",
   "name": "python3"
  },
  "language_info": {
   "codemirror_mode": {
    "name": "ipython",
    "version": 3
   },
   "file_extension": ".py",
   "mimetype": "text/x-python",
   "name": "python",
   "nbconvert_exporter": "python",
   "pygments_lexer": "ipython3",
   "version": "3.12.5"
  }
 },
 "nbformat": 4,
 "nbformat_minor": 2
}
