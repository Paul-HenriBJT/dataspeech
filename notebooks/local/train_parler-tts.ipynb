{
 "cells": [
  {
   "cell_type": "code",
   "execution_count": 1,
   "metadata": {},
   "outputs": [
    {
     "name": "stdout",
     "output_type": "stream",
     "text": [
      "zsh:1: no matches found: .[train]\n",
      "Note: you may need to restart the kernel to use updated packages.\n"
     ]
    }
   ],
   "source": [
    "!git clone https://github.com/huggingface/parler-tts.git\n",
    "%cd parler-tts\n",
    "%pip install --quiet -e .[train]"
   ]
  },
  {
   "cell_type": "code",
   "execution_count": 2,
   "metadata": {},
   "outputs": [
    {
     "name": "stdout",
     "output_type": "stream",
     "text": [
      "The following values were not passed to `accelerate launch` and had defaults used instead:\n",
      "\t`--num_processes` was set to a value of `0`\n",
      "\t`--num_machines` was set to a value of `1`\n",
      "\t`--mixed_precision` was set to a value of `'no'`\n",
      "\t`--dynamo_backend` was set to a value of `'no'`\n",
      "To avoid this warning pass in values for each of the problematic parameters or run `accelerate config`.\n",
      "Flash attention 2 is not installed\n",
      "Traceback (most recent call last):\n",
      "  File \"/Users/paul-henri/Documents/QS/parler-tts/training/run_parler_tts_training.py\", line 1186, in <module>\n",
      "    main()\n",
      "  File \"/Users/paul-henri/Documents/QS/parler-tts/training/run_parler_tts_training.py\", line 112, in main\n",
      "    accelerator = Accelerator(\n",
      "                  ^^^^^^^^^^^^\n",
      "  File \"/Users/paul-henri/Documents/QS/dataspeech/env_dataspeech/lib/python3.12/site-packages/accelerate/accelerator.py\", line 471, in __init__\n",
      "    raise ValueError(f\"fp16 mixed precision requires a GPU (not {self.device.type!r}).\")\n",
      "ValueError: fp16 mixed precision requires a GPU (not 'mps').\n",
      "Traceback (most recent call last):\n",
      "  File \"/Users/paul-henri/Documents/QS/dataspeech/env_dataspeech/bin/accelerate\", line 8, in <module>\n",
      "    sys.exit(main())\n",
      "             ^^^^^^\n",
      "  File \"/Users/paul-henri/Documents/QS/dataspeech/env_dataspeech/lib/python3.12/site-packages/accelerate/commands/accelerate_cli.py\", line 48, in main\n",
      "    args.func(args)\n",
      "  File \"/Users/paul-henri/Documents/QS/dataspeech/env_dataspeech/lib/python3.12/site-packages/accelerate/commands/launch.py\", line 1106, in launch_command\n",
      "    simple_launcher(args)\n",
      "  File \"/Users/paul-henri/Documents/QS/dataspeech/env_dataspeech/lib/python3.12/site-packages/accelerate/commands/launch.py\", line 704, in simple_launcher\n",
      "    raise subprocess.CalledProcessError(returncode=process.returncode, cmd=cmd)\n",
      "subprocess.CalledProcessError: Command '['/Users/paul-henri/Documents/QS/dataspeech/env_dataspeech/bin/python3.12', '/Users/paul-henri/Documents/QS/parler-tts/training/run_parler_tts_training.py', '--model_name_or_path', 'parler-tts/parler-tts-mini-v1', '--feature_extractor_name', 'parler-tts/dac_44khZ_8kbps', '--description_tokenizer_name', 'parler-tts/parler-tts-mini-v1', '--prompt_tokenizer_name', 'parler-tts/parler-tts-mini-v1', '--overwrite_output_dir', 'true', '--train_dataset_name', 'PHBJT/mls_french', '--train_metadata_dataset_name', '/Users/paul-henri/Documents/QS/dataspeech/datasets/mls_french_opus', '--train_dataset_config_name', 'default', '--train_split_name', 'train', '--eval_dataset_name', 'PHBJT/mls_french_tagged_generated', '--eval_metadata_dataset_name', '/Users/paul-henri/Documents/QS/dataspeech/datasets/mls_french_opus', '--eval_dataset_config_name', 'default', '--eval_split_name', 'train', '--max_eval_samples', '8', '--per_device_eval_batch_size', '8', '--target_audio_column_name', 'audio', '--description_column_name', 'text_description', '--prompt_column_name', 'text', '--max_duration_in_seconds', '20', '--min_duration_in_seconds', '2.0', '--max_text_length', '400', '--preprocessing_num_workers', '2', '--do_train', 'true', '--num_train_epochs', '2', '--gradient_accumulation_steps', '18', '--gradient_checkpointing', 'true', '--per_device_train_batch_size', '2', '--learning_rate', '0.00008', '--adam_beta1', '0.9', '--adam_beta2', '0.99', '--weight_decay', '0.01', '--lr_scheduler_type', 'constant_with_warmup', '--warmup_steps', '50', '--logging_steps', '2', '--freeze_text_encoder', 'true', '--audio_encoder_per_device_batch_size', '4', '--dtype', 'float16', '--seed', '456', '--output_dir', './output_dir_training/', '--temporary_save_to_disk', './audio_code_tmp/', '--save_to_disk', './tmp_dataset_audio/', '--dataloader_num_workers', '2', '--do_eval', '--predict_with_generate', '--include_inputs_for_metrics', '--group_by_length', 'true']' returned non-zero exit status 1.\n"
     ]
    }
   ],
   "source": [
    "!accelerate launch \"/Users/paul-henri/Documents/QS/parler-tts/training/run_parler_tts_training.py\" \\\n",
    "    --model_name_or_path \"parler-tts/parler-tts-mini-v1\" \\\n",
    "    --feature_extractor_name \"parler-tts/dac_44khZ_8kbps\" \\\n",
    "    --description_tokenizer_name \"parler-tts/parler-tts-mini-v1\" \\\n",
    "    --prompt_tokenizer_name \"parler-tts/parler-tts-mini-v1\" \\\n",
    "    --overwrite_output_dir true \\\n",
    "    --train_dataset_name \"PHBJT/mls_french\" \\\n",
    "    --train_metadata_dataset_name \"/Users/paul-henri/Documents/QS/dataspeech/datasets/mls_french_opus\" \\\n",
    "    --train_dataset_config_name \"default\" \\\n",
    "    --train_split_name \"train\" \\\n",
    "    --eval_dataset_name \"PHBJT/mls_french_tagged_generated\" \\\n",
    "    --eval_metadata_dataset_name \"/Users/paul-henri/Documents/QS/dataspeech/datasets/mls_french_opus\" \\\n",
    "    --eval_dataset_config_name \"default\" \\\n",
    "    --eval_split_name \"train\" \\\n",
    "    --max_eval_samples 8 \\\n",
    "    --per_device_eval_batch_size 8 \\\n",
    "    --target_audio_column_name \"audio\" \\\n",
    "    --description_column_name \"text_description\" \\\n",
    "    --prompt_column_name \"text\" \\\n",
    "    --max_duration_in_seconds 20 \\\n",
    "    --min_duration_in_seconds 2.0 \\\n",
    "    --max_text_length 400 \\\n",
    "    --preprocessing_num_workers 2 \\\n",
    "    --do_train true \\\n",
    "    --num_train_epochs 2 \\\n",
    "    --gradient_accumulation_steps 18 \\\n",
    "    --gradient_checkpointing true \\\n",
    "    --per_device_train_batch_size 2 \\\n",
    "    --learning_rate 0.00008 \\\n",
    "    --adam_beta1 0.9 \\\n",
    "    --adam_beta2 0.99 \\\n",
    "    --weight_decay 0.01 \\\n",
    "    --lr_scheduler_type \"constant_with_warmup\" \\\n",
    "    --warmup_steps 50 \\\n",
    "    --logging_steps 2 \\\n",
    "    --freeze_text_encoder true \\\n",
    "    --audio_encoder_per_device_batch_size 4 \\\n",
    "    --dtype \"float16\" \\\n",
    "    --seed 456 \\\n",
    "    --output_dir \"./output_dir_training/\" \\\n",
    "    --temporary_save_to_disk \"./audio_code_tmp/\" \\\n",
    "    --save_to_disk \"./tmp_dataset_audio/\" \\\n",
    "    --dataloader_num_workers 2 \\\n",
    "    --do_eval \\\n",
    "    --predict_with_generate \\\n",
    "    --include_inputs_for_metrics \\\n",
    "    --group_by_length true \\\n",
    "    --wandb_api_key \"c7f8305aef0a0eb4857def659a094467e7290144\"\n",
    "    --preprocessing_only \\\n",
    "    --preprocessed_dataset_hub_path \"PHBJT/mls_french_tokenized\""
   ]
  }
 ],
 "metadata": {
  "kernelspec": {
   "display_name": "env_dataspeech",
   "language": "python",
   "name": "python3"
  },
  "language_info": {
   "codemirror_mode": {
    "name": "ipython",
    "version": 3
   },
   "file_extension": ".py",
   "mimetype": "text/x-python",
   "name": "python",
   "nbconvert_exporter": "python",
   "pygments_lexer": "ipython3",
   "version": "3.12.5"
  }
 },
 "nbformat": 4,
 "nbformat_minor": 2
}
