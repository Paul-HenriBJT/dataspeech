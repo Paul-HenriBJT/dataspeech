{
 "cells": [
  {
   "cell_type": "code",
   "execution_count": 4,
   "metadata": {},
   "outputs": [
    {
     "name": "stdout",
     "output_type": "stream",
     "text": [
      "Downloading readme: 100%|██████████████████| 1.06k/1.06k [00:00<00:00, 8.58kB/s]\n",
      "Downloading data: 100%|████████████████████| 7.46M/7.46M [00:00<00:00, 8.04MB/s]\n",
      "Downloading data: 100%|███████████████████████| 238k/238k [00:00<00:00, 485kB/s]\n",
      "Downloading data: 100%|███████████████████████| 250k/250k [00:00<00:00, 684kB/s]\n",
      "Generating train split: 100%|██| 21519/21519 [00:00<00:00, 501677.09 examples/s]\n",
      "Generating dev split: 100%|████████| 747/747 [00:00<00:00, 443599.76 examples/s]\n",
      "Generating test split: 100%|███████| 752/752 [00:00<00:00, 492830.72 examples/s]\n",
      "Map: 100%|██████████████████████| 21519/21519 [00:01<00:00, 20030.47 examples/s]\n",
      "Map: 100%|██████████████████████████| 747/747 [00:00<00:00, 21913.17 examples/s]\n",
      "Map: 100%|██████████████████████████| 752/752 [00:00<00:00, 21443.45 examples/s]\n",
      "Uploading the dataset shards:   0%|                       | 0/1 [00:00<?, ?it/s]\n",
      "Creating parquet from Arrow format: 100%|██████| 22/22 [00:00<00:00, 396.64ba/s]\u001b[A\n",
      "Uploading the dataset shards: 100%|███████████████| 1/1 [00:01<00:00,  1.81s/it]\n",
      "Uploading the dataset shards:   0%|                       | 0/1 [00:00<?, ?it/s]\n",
      "Creating parquet from Arrow format: 100%|████████| 1/1 [00:00<00:00, 237.31ba/s]\u001b[A\n",
      "Uploading the dataset shards: 100%|███████████████| 1/1 [00:01<00:00,  1.14s/it]\n",
      "Uploading the dataset shards:   0%|                       | 0/1 [00:00<?, ?it/s]\n",
      "Creating parquet from Arrow format: 100%|████████| 1/1 [00:00<00:00, 256.55ba/s]\u001b[A\n",
      "Uploading the dataset shards: 100%|███████████████| 1/1 [00:01<00:00,  1.03s/it]\n",
      "Dataset pushed to hub: PHBJT/cml-tts-20percent-subset-tagged-with-gender\n"
     ]
    }
   ],
   "source": [
    "!python /Users/paul-henri/Documents/QS/dataspeech/scripts/compute_gender_from_pitch.py \"PHBJT/cml-tts-20percent-subset-tagged\"  \\\n",
    "    --push_to_hub \"PHBJT/cml-tts-20percent-subset-tagged-with-gender\""
   ]
  }
 ],
 "metadata": {
  "kernelspec": {
   "display_name": "env_dataspeech",
   "language": "python",
   "name": "python3"
  },
  "language_info": {
   "codemirror_mode": {
    "name": "ipython",
    "version": 3
   },
   "file_extension": ".py",
   "mimetype": "text/x-python",
   "name": "python",
   "nbconvert_exporter": "python",
   "pygments_lexer": "ipython3",
   "version": "3.12.5"
  }
 },
 "nbformat": 4,
 "nbformat_minor": 2
}
