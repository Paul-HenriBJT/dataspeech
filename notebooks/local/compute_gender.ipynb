{
 "cells": [
  {
   "cell_type": "code",
   "execution_count": 1,
   "metadata": {},
   "outputs": [
    {
     "name": "stdout",
     "output_type": "stream",
     "text": [
      "Downloading readme: 100%|██████████████████████| 785/785 [00:00<00:00, 4.64kB/s]\n",
      "Downloading data: 100%|██████████████████████| 535M/535M [02:57<00:00, 3.01MB/s]\n",
      "Downloading data: 100%|██████████████████████| 517M/517M [02:14<00:00, 3.85MB/s]\n",
      "Downloading data: 100%|██████████████████████| 519M/519M [01:47<00:00, 4.84MB/s]\n",
      "Downloading data: 100%|██████████████████████| 519M/519M [01:56<00:00, 4.44MB/s]\n",
      "Downloading data: 100%|██████████████████████| 514M/514M [02:01<00:00, 4.22MB/s]\n",
      "Downloading data: 100%|██████████████████████| 101M/101M [00:30<00:00, 3.33MB/s]\n",
      "Downloading data: 100%|████████████████████| 98.2M/98.2M [00:30<00:00, 3.23MB/s]\n",
      "Generating train split: 100%|██████| 5379/5379 [00:02<00:00, 1896.45 examples/s]\n",
      "Generating dev split: 100%|██████████| 186/186 [00:00<00:00, 1625.39 examples/s]\n",
      "Generating test split: 100%|█████████| 188/188 [00:00<00:00, 1655.53 examples/s]\n",
      "Map:   0%|                                      | 0/5379 [00:00<?, ? examples/s]\n",
      "Traceback (most recent call last):\n",
      "  File \"/Users/paul-henri/Documents/QS/dataspeech/scripts/compute_gender_from_pitch.py\", line 54, in <module>\n",
      "    main(args)\n",
      "  File \"/Users/paul-henri/Documents/QS/dataspeech/scripts/compute_gender_from_pitch.py\", line 30, in main\n",
      "    dataset[split] = dataset[split].map(\n",
      "                     ^^^^^^^^^^^^^^^^^^^\n",
      "  File \"/Users/paul-henri/Documents/QS/datasets/venv/lib/python3.12/site-packages/datasets/arrow_dataset.py\", line 602, in wrapper\n",
      "    out: Union[\"Dataset\", \"DatasetDict\"] = func(self, *args, **kwargs)\n",
      "                                           ^^^^^^^^^^^^^^^^^^^^^^^^^^^\n",
      "  File \"/Users/paul-henri/Documents/QS/datasets/venv/lib/python3.12/site-packages/datasets/arrow_dataset.py\", line 567, in wrapper\n",
      "    out: Union[\"Dataset\", \"DatasetDict\"] = func(self, *args, **kwargs)\n",
      "                                           ^^^^^^^^^^^^^^^^^^^^^^^^^^^\n",
      "  File \"/Users/paul-henri/Documents/QS/datasets/venv/lib/python3.12/site-packages/datasets/arrow_dataset.py\", line 3167, in map\n",
      "    for rank, done, content in Dataset._map_single(**dataset_kwargs):\n",
      "                               ^^^^^^^^^^^^^^^^^^^^^^^^^^^^^^^^^^^^^\n",
      "  File \"/Users/paul-henri/Documents/QS/datasets/venv/lib/python3.12/site-packages/datasets/arrow_dataset.py\", line 3528, in _map_single\n",
      "    example = apply_function_on_filtered_inputs(example, i, offset=offset)\n",
      "              ^^^^^^^^^^^^^^^^^^^^^^^^^^^^^^^^^^^^^^^^^^^^^^^^^^^^^^^^^^^^\n",
      "  File \"/Users/paul-henri/Documents/QS/datasets/venv/lib/python3.12/site-packages/datasets/arrow_dataset.py\", line 3427, in apply_function_on_filtered_inputs\n",
      "    processed_inputs = function(*fn_args, *additional_args, **fn_kwargs)\n",
      "                       ^^^^^^^^^^^^^^^^^^^^^^^^^^^^^^^^^^^^^^^^^^^^^^^^^\n",
      "  File \"/Users/paul-henri/Documents/QS/dataspeech/scripts/compute_gender_from_pitch.py\", line 31, in <lambda>\n",
      "    lambda x: add_gender_column(x, args.pitch_column),\n",
      "              ^^^^^^^^^^^^^^^^^^^^^^^^^^^^^^^^^^^^^^^\n",
      "  File \"/Users/paul-henri/Documents/QS/dataspeech/scripts/compute_gender_from_pitch.py\", line 21, in add_gender_column\n",
      "    example['gender'] = estimate_gender_from_pitch(example[pitch_column])\n",
      "                                                   ~~~~~~~^^^^^^^^^^^^^^\n",
      "  File \"/Users/paul-henri/Documents/QS/datasets/venv/lib/python3.12/site-packages/datasets/formatting/formatting.py\", line 277, in __getitem__\n",
      "    value = self.data[key]\n",
      "            ~~~~~~~~~^^^^^\n",
      "KeyError: 'utterance_pitch_mean'\n"
     ]
    }
   ],
   "source": [
    "!python /Users/paul-henri/Documents/QS/dataspeech/scripts/compute_gender_from_pitch.py \"PHBJT/cml-tts-5percent-subset-tagged\"  \\\n",
    "    --push_to_hub \"PHBJT/cml-tts-5percent-subset-tagged-with-gender\""
   ]
  }
 ],
 "metadata": {
  "kernelspec": {
   "display_name": "env_dataspeech",
   "language": "python",
   "name": "python3"
  },
  "language_info": {
   "codemirror_mode": {
    "name": "ipython",
    "version": 3
   },
   "file_extension": ".py",
   "mimetype": "text/x-python",
   "name": "python",
   "nbconvert_exporter": "python",
   "pygments_lexer": "ipython3",
   "version": "3.12.5"
  }
 },
 "nbformat": 4,
 "nbformat_minor": 2
}
