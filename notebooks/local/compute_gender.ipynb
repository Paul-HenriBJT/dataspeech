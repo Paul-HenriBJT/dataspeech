{
 "cells": [
  {
   "cell_type": "code",
   "execution_count": 2,
   "metadata": {},
   "outputs": [
    {
     "name": "stdout",
     "output_type": "stream",
     "text": [
      "Generating data split: 22785 examples [00:00, 1736543.83 examples/s]\n",
      "Map: 100%|██████████████████████| 22785/22785 [00:01<00:00, 21172.64 examples/s]\n",
      "Saving the dataset (1/1 shards): 100%|█| 22785/22785 [00:00<00:00, 1877327.16 ex\n",
      "Dataset saved to /Users/paul-henri/Documents/QS/dataspeech/datasets/mls_french_opus_tagged_with_gender/train\n"
     ]
    }
   ],
   "source": [
    "!python /Users/paul-henri/Documents/QS/dataspeech/scripts/compute_gender_from_pitch.py /Users/paul-henri/Documents/QS/dataspeech/datasets/temp  \\\n",
    "    --output_dir /Users/paul-henri/Documents/QS/dataspeech/datasets/mls_french_opus_tagged_with_gender/train"
   ]
  }
 ],
 "metadata": {
  "kernelspec": {
   "display_name": "env_dataspeech",
   "language": "python",
   "name": "python3"
  },
  "language_info": {
   "codemirror_mode": {
    "name": "ipython",
    "version": 3
   },
   "file_extension": ".py",
   "mimetype": "text/x-python",
   "name": "python",
   "nbconvert_exporter": "python",
   "pygments_lexer": "ipython3",
   "version": "3.12.5"
  }
 },
 "nbformat": 4,
 "nbformat_minor": 2
}
