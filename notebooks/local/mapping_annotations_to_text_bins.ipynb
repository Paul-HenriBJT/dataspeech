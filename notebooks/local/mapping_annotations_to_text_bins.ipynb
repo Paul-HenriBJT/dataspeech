{
 "cells": [
  {
   "cell_type": "code",
   "execution_count": 2,
   "metadata": {},
   "outputs": [
    {
     "name": "stdout",
     "output_type": "stream",
     "text": [
      "Setting num_proc from 2 back to 1 for the train split to disable multiprocessing as it only contains one shard.\n",
      "Generating train split: 22785 examples [00:00, 1695837.33 examples/s]\n",
      "Already computed bin edges have been passed for pitch. Will use: {'male': [74.04898071289062, 88.6379623413086, 103.22694396972656, 117.81592559814453, 132.4049072265625, 146.993896484375, 161.58287048339844, 176.17185974121094], 'female': [130.46119689941406, 149.0537567138672, 167.64630126953125, 186.23886108398438, 204.83140563964844, 223.42396545410156, 242.01651000976562, 260.60906982421875]}.\n",
      "Map (num_proc=2): 100%|█████████| 22785/22785 [00:01<00:00, 17695.07 examples/s]\n",
      "Already computed bin edges have been passed for speaking_rate. Will use: [3.508771929824561, 6.187242299296628, 8.865712668768696, 11.544183038240764, 14.22265340771283, 16.901123777184896, 19.579594146656966, 22.258064516129032].\n",
      "Map (num_proc=2): 100%|█████████| 22785/22785 [00:01<00:00, 18185.65 examples/s]\n",
      "Already computed bin edges have been passed for noise. Will use: [27.179607391357422, 33.90050179617746, 40.62139620099749, 47.342290605817524, 54.063185010637554, 60.78407941545759, 67.50497382027763, 74.22586822509766].\n",
      "Map (num_proc=2): 100%|█████████| 22785/22785 [00:01<00:00, 19467.25 examples/s]\n",
      "Already computed bin edges have been passed for reverberation. Will use: [30.498437881469727, 34.706024169921875, 38.91361045837402, 43.12119674682617, 47.32878303527832, 51.53636932373047, 55.74395561218262, 59.951541900634766].\n",
      "Map (num_proc=2): 100%|█████████| 22785/22785 [00:01<00:00, 19902.90 examples/s]\n",
      "Already computed bin edges have been passed for speech_monotony. Will use: [0.0, 17.430070059640066, 34.86014011928013, 52.2902101789202, 69.72028023856026, 87.15035029820032, 104.5804203578404, 122.01049041748047].\n",
      "Map (num_proc=2): 100%|█████████| 22785/22785 [00:01<00:00, 19152.37 examples/s]\n",
      "Saving the dataset (1/1 shards): 100%|█| 22785/22785 [00:00<00:00, 696914.71 exa\n"
     ]
    }
   ],
   "source": [
    "!python /Users/paul-henri/Documents/QS/dataspeech/scripts/metadata_to_text.py /Users/paul-henri/Documents/QS/dataspeech/datasets/temp \\\n",
    "    --output_dir /Users/paul-henri/Documents/QS/dataspeech/datasets/mls_french_opus_annotated/train \\\n",
    "    --configuration \"default\" \\\n",
    "    --cpu_num_workers 2 \\\n",
    "    --path_to_bin_edges \"/Users/paul-henri/Documents/QS/dataspeech/examples/tags_to_annotations/v01_bin_edges.json\"\n"
   ]
  }
 ],
 "metadata": {
  "kernelspec": {
   "display_name": "env_dataspeech",
   "language": "python",
   "name": "python3"
  },
  "language_info": {
   "codemirror_mode": {
    "name": "ipython",
    "version": 3
   },
   "file_extension": ".py",
   "mimetype": "text/x-python",
   "name": "python",
   "nbconvert_exporter": "python",
   "pygments_lexer": "ipython3",
   "version": "3.12.5"
  }
 },
 "nbformat": 4,
 "nbformat_minor": 2
}
