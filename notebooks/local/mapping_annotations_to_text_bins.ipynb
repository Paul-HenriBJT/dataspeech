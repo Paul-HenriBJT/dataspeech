{
 "cells": [
  {
   "cell_type": "code",
   "execution_count": 3,
   "metadata": {},
   "outputs": [
    {
     "name": "stdout",
     "output_type": "stream",
     "text": [
      "Downloading readme: 100%|██████████████████| 1.09k/1.09k [00:00<00:00, 8.45kB/s]\n",
      "\n",
      "\n",
      "Downloading data:   0%|                              | 0.00/239k [00:00<?, ?B/s]\u001b[A\u001b[A\n",
      "Downloading data:   0%|                              | 0.00/250k [00:00<?, ?B/s]\u001b[A\n",
      "\n",
      "\n",
      "Downloading data:   0%|                             | 0.00/7.47M [00:00<?, ?B/s]\u001b[A\u001b[A\u001b[A\n",
      "\n",
      "Downloading data: 100%|███████████████████████| 239k/239k [00:00<00:00, 586kB/s]\u001b[A\u001b[A\n",
      "\n",
      "Downloading data: 100%|███████████████████████| 250k/250k [00:00<00:00, 287kB/s]\u001b[A\n",
      "\n",
      "\n",
      "\n",
      "Downloading data: 100%|████████████████████| 7.47M/7.47M [00:01<00:00, 6.24MB/s]\u001b[A\u001b[A\u001b[A\n",
      "Setting num_proc from 8 back to 1 for the train split to disable multiprocessing as it only contains one shard.\n",
      "Generating train split: 100%|█| 21519/21519 [00:00<00:00, 1256871.90 examples/s]\n",
      "Setting num_proc from 8 back to 1 for the dev split to disable multiprocessing as it only contains one shard.\n",
      "Generating dev split: 100%|████████| 747/747 [00:00<00:00, 552582.91 examples/s]\n",
      "Setting num_proc from 8 back to 1 for the test split to disable multiprocessing as it only contains one shard.\n",
      "Generating test split: 100%|███████| 752/752 [00:00<00:00, 653296.73 examples/s]\n",
      "Already computed bin edges have been passed for pitch. Will use: {'male': [64.6531982421875, 81.66683959960938, 98.68048095703125, 115.69412231445312, 132.707763671875, 149.72140502929688, 166.73504638671875, 183.74868774414062], 'female': [120.17855072021484, 141.6242690945264, 163.06998746883795, 184.51570584314953, 205.96142421746106, 227.40714259177264, 248.8528609660842, 270.29857934039575]}.\n",
      "Map (num_proc=8): 100%|█████████| 21519/21519 [00:01<00:00, 20043.73 examples/s]\n",
      "Map (num_proc=8): 100%|███████████████| 747/747 [00:01<00:00, 716.28 examples/s]\n",
      "Map (num_proc=8): 100%|███████████████| 752/752 [00:00<00:00, 832.75 examples/s]\n",
      "Already computed bin edges have been passed for speaking_rate. Will use: [0.0, 3.8258038258038254, 7.651607651607651, 11.477411477411476, 15.303215303215302, 19.129019129019127, 22.95482295482295, 26.78062678062678].\n",
      "Map (num_proc=8): 100%|█████████| 21519/21519 [00:00<00:00, 21844.77 examples/s]\n",
      "Map (num_proc=8): 100%|███████████████| 747/747 [00:00<00:00, 855.59 examples/s]\n",
      "Map (num_proc=8): 100%|███████████████| 752/752 [00:00<00:00, 836.94 examples/s]\n",
      "Already computed bin edges have been passed for noise. Will use: [17.12751579284668, 25.4012325831822, 33.67494937351772, 41.94866616385323, 50.22238295418875, 58.49609974452427, 66.76981653485979, 75.04353332519531].\n",
      "Map (num_proc=8): 100%|█████████| 21519/21519 [00:00<00:00, 22239.89 examples/s]\n",
      "Map (num_proc=8): 100%|███████████████| 747/747 [00:00<00:00, 858.11 examples/s]\n",
      "Map (num_proc=8): 100%|███████████████| 752/752 [00:00<00:00, 809.71 examples/s]\n",
      "Already computed bin edges have been passed for reverberation. Will use: [10, 35, 45, 55, 59, 60].\n",
      "Map (num_proc=8): 100%|█████████| 21519/21519 [00:01<00:00, 19896.43 examples/s]\n",
      "Map (num_proc=8): 100%|███████████████| 747/747 [00:01<00:00, 709.53 examples/s]\n",
      "Map (num_proc=8): 100%|███████████████| 752/752 [00:00<00:00, 788.68 examples/s]\n",
      "Already computed bin edges have been passed for speech_monotony. Will use: [0.0, 20.37920924595424, 40.75841849190848, 70, 90, 142.6544647216797].\n",
      "Map (num_proc=8): 100%|█████████| 21519/21519 [00:01<00:00, 20701.04 examples/s]\n",
      "Map (num_proc=8): 100%|███████████████| 747/747 [00:00<00:00, 772.09 examples/s]\n",
      "Map (num_proc=8): 100%|███████████████| 752/752 [00:00<00:00, 834.96 examples/s]\n",
      "Already computed bin edges have been passed for sdr_noise. Will use: [-17.804332733154297, -0.40644073486328125, 10, 20, 25, 28, 34.38934326171875].\n",
      "Map (num_proc=8): 100%|█████████| 21519/21519 [00:00<00:00, 22245.49 examples/s]\n",
      "Map (num_proc=8): 100%|███████████████| 747/747 [00:00<00:00, 872.76 examples/s]\n",
      "Map (num_proc=8): 100%|███████████████| 752/752 [00:00<00:00, 894.10 examples/s]\n",
      "Already computed bin edges have been passed for pesq_speech_quality. Will use: [1, 1.7, 2.4, 3.1, 3.6, 4, 4.499948978424072].\n",
      "Map (num_proc=8): 100%|█████████| 21519/21519 [00:01<00:00, 21076.91 examples/s]\n",
      "Map (num_proc=8): 100%|███████████████| 747/747 [00:00<00:00, 808.27 examples/s]\n",
      "Map (num_proc=8): 100%|███████████████| 752/752 [00:00<00:00, 840.45 examples/s]\n",
      "Uploading the dataset shards:   0%|                       | 0/1 [00:00<?, ?it/s]\n",
      "Creating parquet from Arrow format:   0%|                | 0/22 [00:00<?, ?ba/s]\u001b[A\n",
      "Creating parquet from Arrow format: 100%|██████| 22/22 [00:00<00:00, 148.74ba/s]\u001b[A\n",
      "Uploading the dataset shards: 100%|███████████████| 1/1 [00:01<00:00,  1.81s/it]\n",
      "Uploading the dataset shards:   0%|                       | 0/1 [00:00<?, ?it/s]\n",
      "Creating parquet from Arrow format: 100%|████████| 1/1 [00:00<00:00, 142.31ba/s]\u001b[A\n",
      "Uploading the dataset shards: 100%|███████████████| 1/1 [00:00<00:00,  1.12it/s]\n",
      "Uploading the dataset shards:   0%|                       | 0/1 [00:00<?, ?it/s]\n",
      "Creating parquet from Arrow format: 100%|█████████| 1/1 [00:00<00:00, 92.94ba/s]\u001b[A\n",
      "Uploading the dataset shards: 100%|███████████████| 1/1 [00:01<00:00,  1.10s/it]\n"
     ]
    }
   ],
   "source": [
    "!python /Users/paul-henri/Documents/QS/dataspeech/scripts/metadata_to_text.py \"PHBJT/cml-tts-20percent-subset-tagged-with-gender\"\\\n",
    "    --repo_id \"PHBJT/cml-tts-20percent-subset-annotated\" \\\n",
    "    --cpu_num_workers 8 \\\n",
    "    --path_to_bin_edges /Users/paul-henri/Documents/QS/dataspeech/examples/tags_to_annotations/v02_bin_edges.json \\\n",
    "    --path_to_text_bins /Users/paul-henri/Documents/QS/dataspeech/examples/tags_to_annotations/v02_text_bins.json \\\n",
    "    --apply_squim_quality_estimation\n"
   ]
  }
 ],
 "metadata": {
  "kernelspec": {
   "display_name": "env_dataspeech",
   "language": "python",
   "name": "python3"
  },
  "language_info": {
   "codemirror_mode": {
    "name": "ipython",
    "version": 3
   },
   "file_extension": ".py",
   "mimetype": "text/x-python",
   "name": "python",
   "nbconvert_exporter": "python",
   "pygments_lexer": "ipython3",
   "version": "3.12.5"
  }
 },
 "nbformat": 4,
 "nbformat_minor": 2
}
