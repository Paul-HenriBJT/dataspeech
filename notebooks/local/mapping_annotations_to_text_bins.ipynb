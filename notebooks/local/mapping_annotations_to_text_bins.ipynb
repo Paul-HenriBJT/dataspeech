{
 "cells": [
  {
   "cell_type": "code",
   "execution_count": 16,
   "metadata": {},
   "outputs": [],
   "source": [
    "!python /Users/paul-henri/Documents/QS/dataspeech/scripts/metadata_to_text.py \"PHBJT/cml-tts-annotated-punctuation-restored-with-gender\"\\\n",
    "    --repo_id \"PHBJT/cml-tts-text-bins\" \\\n",
    "    --cpu_num_workers 8 \\\n",
    "    --configuration \"italian\" \\\n",
    "    --path_to_bin_edges /Users/paul-henri/Documents/QS/dataspeech/examples/tags_to_annotations/v02_bin_edges.json \\\n",
    "    --path_to_text_bins /Users/paul-henri/Documents/QS/dataspeech/examples/tags_to_annotations/v02_text_bins.json \n"
   ]
  }
 ],
 "metadata": {
  "kernelspec": {
   "display_name": "env_dataspeech",
   "language": "python",
   "name": "python3"
  },
  "language_info": {
   "codemirror_mode": {
    "name": "ipython",
    "version": 3
   },
   "file_extension": ".py",
   "mimetype": "text/x-python",
   "name": "python",
   "nbconvert_exporter": "python",
   "pygments_lexer": "ipython3",
   "version": "3.12.5"
  }
 },
 "nbformat": 4,
 "nbformat_minor": 2
}
